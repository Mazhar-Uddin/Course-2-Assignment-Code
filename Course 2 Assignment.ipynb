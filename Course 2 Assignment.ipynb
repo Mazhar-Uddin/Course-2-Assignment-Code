{
 "cells": [
  {
   "cell_type": "markdown",
   "id": "f9d15f1d-a570-453d-b397-233ae6aaee2f",
   "metadata": {},
   "source": [
    "# DATA SCIENCE BASICS"
   ]
  },
  {
   "cell_type": "markdown",
   "id": "19ac9374-bae7-4a60-b0df-b1a89688a8fd",
   "metadata": {},
   "source": [
    "This notebook summarized what we have learned in this course so far."
   ]
  },
  {
   "cell_type": "markdown",
   "id": "10310ffd-d6a6-42fc-b771-59f9cac1dcd8",
   "metadata": {},
   "source": [
    "Data Science Languages\n",
    "1. Pyhton\n",
    "2. R\n",
    "3. Anaconda"
   ]
  },
  {
   "cell_type": "markdown",
   "id": "6fc7250b-f32a-4fd1-a3b3-3b57dde02224",
   "metadata": {},
   "source": [
    "Data Science Libraries\n",
    "1. TensorFlow\n",
    "2. NumPy\n",
    "3. SciPy \n",
    "4. Pandas"
   ]
  },
  {
   "cell_type": "markdown",
   "id": "9ddad3d4-0051-45fb-9328-087b55c5aa9e",
   "metadata": {},
   "source": [
    "Data Science Tools\n",
    "| Name of Tool        |\n",
    "| ------------- |\n",
    "| Jupyterlab      |\n",
    "| Github      |\n",
    "| SPSS |\n"
   ]
  },
  {
   "cell_type": "markdown",
   "id": "712a6b4d-87f8-4116-8131-d601441e5f0e",
   "metadata": {},
   "source": [
    "### Some arithmatic expressions\n",
    "- Multiplication: x*y\n",
    "- Division: x/y\n",
    "- Exponent: x**y"
   ]
  },
  {
   "cell_type": "markdown",
   "id": "be56ff1b-f580-4f9a-9743-214fa6d870a4",
   "metadata": {},
   "source": [
    "Simple Arithmetic expression with example\n"
   ]
  },
  {
   "cell_type": "code",
   "execution_count": 4,
   "id": "f2dd52d0-24f5-4d9e-8109-63c90c755a67",
   "metadata": {},
   "outputs": [
    {
     "name": "stdout",
     "output_type": "stream",
     "text": [
      "25\n"
     ]
    }
   ],
   "source": [
    "x=2*5+15;\n",
    "print(x)"
   ]
  },
  {
   "cell_type": "markdown",
   "id": "71326e23-93ea-46b8-b81d-528a6e3959be",
   "metadata": {},
   "source": [
    "This expression will convert any given input of minutes into hours."
   ]
  },
  {
   "cell_type": "code",
   "execution_count": 5,
   "id": "76bbc326-7854-4248-a770-ed4ccd8b7a3c",
   "metadata": {},
   "outputs": [
    {
     "name": "stdin",
     "output_type": "stream",
     "text": [
      "Insert the total minutes: 180\n"
     ]
    },
    {
     "name": "stdout",
     "output_type": "stream",
     "text": [
      "3.0 hours\n"
     ]
    }
   ],
   "source": [
    "num= int(input(\"Insert the total minutes:\"))\n",
    "hours=num/60;\n",
    "print(hours,\"hours\")"
   ]
  },
  {
   "cell_type": "markdown",
   "id": "03ad5e94-76de-4c8d-87e1-fc008e669eb8",
   "metadata": {},
   "source": [
    "\n",
    "List of Objectives:\n",
    "- Introduction to Data Science\n",
    "- Tools for Data science\n",
    "- Data Science Libraries"
   ]
  },
  {
   "cell_type": "markdown",
   "id": "e37e8bdc-531f-4fa3-bab5-a2a25e1beaef",
   "metadata": {},
   "source": [
    "## Author\n",
    "\n",
    "MAZHAR UDDIN"
   ]
  },
  {
   "cell_type": "code",
   "execution_count": null,
   "id": "f481457e-3227-414c-bf30-d29db57e7693",
   "metadata": {},
   "outputs": [],
   "source": []
  }
 ],
 "metadata": {
  "kernelspec": {
   "display_name": "Python",
   "language": "python",
   "name": "conda-env-python-py"
  },
  "language_info": {
   "codemirror_mode": {
    "name": "ipython",
    "version": 3
   },
   "file_extension": ".py",
   "mimetype": "text/x-python",
   "name": "python",
   "nbconvert_exporter": "python",
   "pygments_lexer": "ipython3",
   "version": "3.7.12"
  }
 },
 "nbformat": 4,
 "nbformat_minor": 5
}
